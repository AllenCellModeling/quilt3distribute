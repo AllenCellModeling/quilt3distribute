{
 "cells": [
  {
   "cell_type": "code",
   "execution_count": 1,
   "metadata": {},
   "outputs": [
    {
     "data": {
      "text/html": [
       "<h1>Fake Readme</h1>\n",
       "\n",
       "<p>hello world</p>\n",
       "\n",
       "<p><a href=\"referenced_file.txt\">link to reference</a></p>\n"
      ],
      "text/plain": [
       "<Dataset [package: me/test_dataset, shape: (9, 5)]>"
      ]
     },
     "execution_count": 1,
     "metadata": {},
     "output_type": "execute_result"
    }
   ],
   "source": [
    "from t4distribute import Dataset\n",
    "ds = Dataset(\"t4distribute/tests/data/example.csv\", \"test_dataset\", \"me\", \"t4distribute/tests/data/README.md\")\n",
    "ds"
   ]
  },
  {
   "cell_type": "code",
   "execution_count": 2,
   "metadata": {},
   "outputs": [
    {
     "name": "stdout",
     "output_type": "stream",
     "text": [
      "<Dataset [package: me/test_dataset, shape: (9, 5)]>\n"
     ]
    }
   ],
   "source": [
    "print(ds)"
   ]
  },
  {
   "cell_type": "code",
   "execution_count": 3,
   "metadata": {},
   "outputs": [
    {
     "data": {
      "text/html": [
       "<h1>Fake Readme</h1>\n",
       "\n",
       "<p>hello world</p>\n",
       "\n",
       "<p><a href=\"referenced_file.txt\">link to reference</a></p>\n",
       "\n",
       "<h3>Usage</h3>\n",
       "\n",
       "<p>For documenation on how to use and interact with this dataset please refer to <a href=\"https://docs.quiltdata.com/walkthrough/reading-from-a-package\">https://docs.quiltdata.com/walkthrough/reading-from-a-package</a>.</p>\n",
       "\n",
       "<h3>License</h3>\n",
       "\n",
       "<p>For questions on licensing please refer to <a href=\"https://www.allencell.org/terms-of-use.html\">https://www.allencell.org/terms-of-use.html</a>.</p>\n"
      ],
      "text/plain": [
       "<Dataset [package: me/test_dataset, shape: (9, 5)]>"
      ]
     },
     "execution_count": 3,
     "metadata": {},
     "output_type": "execute_result"
    }
   ],
   "source": [
    "ds.add_usage_doc(\"https://docs.quiltdata.com/walkthrough/reading-from-a-package\")\n",
    "ds.add_license(\"https://www.allencell.org/terms-of-use.html\")\n",
    "ds.index_on_columns([\"Structure\"])\n",
    "ds"
   ]
  },
  {
   "cell_type": "code",
   "execution_count": 4,
   "metadata": {},
   "outputs": [
    {
     "data": {
      "text/html": [
       "<div>\n",
       "<style scoped>\n",
       "    .dataframe tbody tr th:only-of-type {\n",
       "        vertical-align: middle;\n",
       "    }\n",
       "\n",
       "    .dataframe tbody tr th {\n",
       "        vertical-align: top;\n",
       "    }\n",
       "\n",
       "    .dataframe thead th {\n",
       "        text-align: right;\n",
       "    }\n",
       "</style>\n",
       "<table border=\"1\" class=\"dataframe\">\n",
       "  <thead>\n",
       "    <tr style=\"text-align: right;\">\n",
       "      <th></th>\n",
       "      <th>2dReadPath</th>\n",
       "      <th>3dReadPath</th>\n",
       "      <th>CellId</th>\n",
       "      <th>MetadataReadPath</th>\n",
       "      <th>Structure</th>\n",
       "    </tr>\n",
       "  </thead>\n",
       "  <tbody>\n",
       "    <tr>\n",
       "      <th>0</th>\n",
       "      <td>/Users/jacksonb/Desktop/active/cell/t4distribu...</td>\n",
       "      <td>/Users/jacksonb/Desktop/active/cell/t4distribu...</td>\n",
       "      <td>1</td>\n",
       "      <td>/Users/jacksonb/Desktop/active/cell/t4distribu...</td>\n",
       "      <td>Fake Data</td>\n",
       "    </tr>\n",
       "    <tr>\n",
       "      <th>1</th>\n",
       "      <td>/Users/jacksonb/Desktop/active/cell/t4distribu...</td>\n",
       "      <td>/Users/jacksonb/Desktop/active/cell/t4distribu...</td>\n",
       "      <td>2</td>\n",
       "      <td>/Users/jacksonb/Desktop/active/cell/t4distribu...</td>\n",
       "      <td>Fake Data</td>\n",
       "    </tr>\n",
       "    <tr>\n",
       "      <th>2</th>\n",
       "      <td>/Users/jacksonb/Desktop/active/cell/t4distribu...</td>\n",
       "      <td>/Users/jacksonb/Desktop/active/cell/t4distribu...</td>\n",
       "      <td>3</td>\n",
       "      <td>/Users/jacksonb/Desktop/active/cell/t4distribu...</td>\n",
       "      <td>Fake Data</td>\n",
       "    </tr>\n",
       "    <tr>\n",
       "      <th>3</th>\n",
       "      <td>/Users/jacksonb/Desktop/active/cell/t4distribu...</td>\n",
       "      <td>/Users/jacksonb/Desktop/active/cell/t4distribu...</td>\n",
       "      <td>4</td>\n",
       "      <td>/Users/jacksonb/Desktop/active/cell/t4distribu...</td>\n",
       "      <td>Fake Data</td>\n",
       "    </tr>\n",
       "    <tr>\n",
       "      <th>4</th>\n",
       "      <td>/Users/jacksonb/Desktop/active/cell/t4distribu...</td>\n",
       "      <td>/Users/jacksonb/Desktop/active/cell/t4distribu...</td>\n",
       "      <td>5</td>\n",
       "      <td>/Users/jacksonb/Desktop/active/cell/t4distribu...</td>\n",
       "      <td>Fake Data</td>\n",
       "    </tr>\n",
       "  </tbody>\n",
       "</table>\n",
       "</div>"
      ],
      "text/plain": [
       "                                          2dReadPath  \\\n",
       "0  /Users/jacksonb/Desktop/active/cell/t4distribu...   \n",
       "1  /Users/jacksonb/Desktop/active/cell/t4distribu...   \n",
       "2  /Users/jacksonb/Desktop/active/cell/t4distribu...   \n",
       "3  /Users/jacksonb/Desktop/active/cell/t4distribu...   \n",
       "4  /Users/jacksonb/Desktop/active/cell/t4distribu...   \n",
       "\n",
       "                                          3dReadPath  CellId  \\\n",
       "0  /Users/jacksonb/Desktop/active/cell/t4distribu...       1   \n",
       "1  /Users/jacksonb/Desktop/active/cell/t4distribu...       2   \n",
       "2  /Users/jacksonb/Desktop/active/cell/t4distribu...       3   \n",
       "3  /Users/jacksonb/Desktop/active/cell/t4distribu...       4   \n",
       "4  /Users/jacksonb/Desktop/active/cell/t4distribu...       5   \n",
       "\n",
       "                                    MetadataReadPath  Structure  \n",
       "0  /Users/jacksonb/Desktop/active/cell/t4distribu...  Fake Data  \n",
       "1  /Users/jacksonb/Desktop/active/cell/t4distribu...  Fake Data  \n",
       "2  /Users/jacksonb/Desktop/active/cell/t4distribu...  Fake Data  \n",
       "3  /Users/jacksonb/Desktop/active/cell/t4distribu...  Fake Data  \n",
       "4  /Users/jacksonb/Desktop/active/cell/t4distribu...  Fake Data  "
      ]
     },
     "execution_count": 4,
     "metadata": {},
     "output_type": "execute_result"
    }
   ],
   "source": [
    "ds.data.head()"
   ]
  },
  {
   "cell_type": "code",
   "execution_count": null,
   "metadata": {},
   "outputs": [],
   "source": [
    "pkg = ds.distribute()\n",
    "pkg"
   ]
  },
  {
   "cell_type": "code",
   "execution_count": null,
   "metadata": {},
   "outputs": [],
   "source": [
    "pkg[\"MembraneSegmentationReadPath\"][\"002af94ab27f413c87fc4e8a53e3e003_fdf16bdedd574c0b90a99ce225d03fdf\"].meta"
   ]
  },
  {
   "cell_type": "code",
   "execution_count": null,
   "metadata": {},
   "outputs": [],
   "source": [
    "pkg = ds.distribute(push_uri=\"s3://quilt-aics\", message=\"Initial upload of data\")\n",
    "pkg"
   ]
  },
  {
   "cell_type": "code",
   "execution_count": 5,
   "metadata": {},
   "outputs": [
    {
     "data": {
      "text/html": [
       "<h1>Fake Readme</h1>\n",
       "\n",
       "<p>hello world</p>\n",
       "\n",
       "<p><a href=\"referenced_file.txt\">link to reference</a></p>\n"
      ],
      "text/plain": [
       "<Dataset [package: me/test_dataset, shape: (9, 5)]>"
      ]
     },
     "execution_count": 5,
     "metadata": {},
     "output_type": "execute_result"
    }
   ],
   "source": [
    "d = Dataset(\"t4distribute/tests/data/example.csv\", \"test_dataset\", \"me\", \"t4distribute/tests/data/README.md\")\n",
    "d"
   ]
  },
  {
   "cell_type": "code",
   "execution_count": 6,
   "metadata": {},
   "outputs": [
    {
     "name": "stderr",
     "output_type": "stream",
     "text": [
      "Could not find file referenced in readme: /Users/jacksonb/Desktop/active/cell/t4distribute/referenced_file.txt\n"
     ]
    },
    {
     "data": {
      "text/plain": [
       "[]"
      ]
     },
     "execution_count": 6,
     "metadata": {},
     "output_type": "execute_result"
    }
   ],
   "source": [
    "d.readme.referenced_files"
   ]
  },
  {
   "cell_type": "code",
   "execution_count": null,
   "metadata": {},
   "outputs": [],
   "source": []
  }
 ],
 "metadata": {
  "kernelspec": {
   "display_name": "Python 3",
   "language": "python",
   "name": "python3"
  },
  "language_info": {
   "codemirror_mode": {
    "name": "ipython",
    "version": 3
   },
   "file_extension": ".py",
   "mimetype": "text/x-python",
   "name": "python",
   "nbconvert_exporter": "python",
   "pygments_lexer": "ipython3",
   "version": "3.7.3"
  }
 },
 "nbformat": 4,
 "nbformat_minor": 2
}
