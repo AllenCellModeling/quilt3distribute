{
 "cells": [
  {
   "cell_type": "code",
   "execution_count": 1,
   "metadata": {},
   "outputs": [
    {
     "data": {
      "text/html": [
       "<h1>Fake Readme</h1>\n",
       "\n",
       "<p>hello world</p>\n"
      ],
      "text/plain": [
       "<Dataset [name: cell_cycle_stage_classifications, shape: (1000, 27)]>"
      ]
     },
     "execution_count": 1,
     "metadata": {},
     "output_type": "execute_result"
    }
   ],
   "source": [
    "from t4distribute import Dataset\n",
    "ds = Dataset(\"~/Desktop/cell_cycle_stage_classifications.csv\", \"cell_cycle_stage_classifications\", \"aics\", \"fake.md\")\n",
    "ds"
   ]
  },
  {
   "cell_type": "code",
   "execution_count": 2,
   "metadata": {},
   "outputs": [
    {
     "data": {
      "text/html": [
       "<h1>Fake Readme</h1>\n",
       "\n",
       "<p>hello world</p>\n",
       "\n",
       "<h3>Usage</h3>\n",
       "\n",
       "<p>For documenation on how to use and interact with this dataset please refer to <a href=\"https://docs.quiltdata.com/walkthrough/reading-from-a-package\">https://docs.quiltdata.com/walkthrough/reading-from-a-package</a>.</p>\n",
       "\n",
       "<h3>License</h3>\n",
       "\n",
       "<p>For questions on licensing please refer to <a href=\"https://www.allencell.org/terms-of-use.html\">https://www.allencell.org/terms-of-use.html</a>.</p>\n"
      ],
      "text/plain": [
       "<Dataset [name: cell_cycle_stage_classifications, shape: (1000, 27)]>"
      ]
     },
     "execution_count": 2,
     "metadata": {},
     "output_type": "execute_result"
    }
   ],
   "source": [
    "ds.add_usage_doc(\"https://docs.quiltdata.com/walkthrough/reading-from-a-package\")\n",
    "ds.add_license(\"https://www.allencell.org/terms-of-use.html\")\n",
    "ds.index_on_columns([\"MitoticStateName\", \"Structure\", \"Protein\"])\n",
    "ds"
   ]
  },
  {
   "cell_type": "code",
   "execution_count": 3,
   "metadata": {},
   "outputs": [
    {
     "data": {
      "text/html": [
       "<div>\n",
       "<style scoped>\n",
       "    .dataframe tbody tr th:only-of-type {\n",
       "        vertical-align: middle;\n",
       "    }\n",
       "\n",
       "    .dataframe tbody tr th {\n",
       "        vertical-align: top;\n",
       "    }\n",
       "\n",
       "    .dataframe thead th {\n",
       "        text-align: right;\n",
       "    }\n",
       "</style>\n",
       "<table border=\"1\" class=\"dataframe\">\n",
       "  <thead>\n",
       "    <tr style=\"text-align: right;\">\n",
       "      <th></th>\n",
       "      <th>CellId</th>\n",
       "      <th>CellIndex</th>\n",
       "      <th>CellLine</th>\n",
       "      <th>ChannelNumber405</th>\n",
       "      <th>ChannelNumber638</th>\n",
       "      <th>ChannelNumberBrightfield</th>\n",
       "      <th>ChannelNumberStruct</th>\n",
       "      <th>MembraneSegmentationReadPath</th>\n",
       "      <th>NucleusSegmentationReadPath</th>\n",
       "      <th>NucMembSegmentationAlgorithm</th>\n",
       "      <th>...</th>\n",
       "      <th>SourceReadPath</th>\n",
       "      <th>Structure</th>\n",
       "      <th>StructureSegmentationReadPath</th>\n",
       "      <th>StructureSegmentationAlgorithm</th>\n",
       "      <th>StructureSegmentationAlgorithmVersion</th>\n",
       "      <th>Workflow</th>\n",
       "      <th>CompleteSegmentation</th>\n",
       "      <th>MitoticAnnotationId</th>\n",
       "      <th>MitoticStateId</th>\n",
       "      <th>MitoticStateName</th>\n",
       "    </tr>\n",
       "  </thead>\n",
       "  <tbody>\n",
       "    <tr>\n",
       "      <th>0</th>\n",
       "      <td>3</td>\n",
       "      <td>3</td>\n",
       "      <td>AICS-22</td>\n",
       "      <td>5</td>\n",
       "      <td>1</td>\n",
       "      <td>6</td>\n",
       "      <td>3</td>\n",
       "      <td>//allen/programs/allencell/data/proj0/0a/dc25b...</td>\n",
       "      <td>//allen/programs/allencell/data/proj0/53/fba6c...</td>\n",
       "      <td>Matlab nucleus/membrane segmentation</td>\n",
       "      <td>...</td>\n",
       "      <td>//allen/programs/allencell/data/proj0/30/6a23a...</td>\n",
       "      <td>Lysosome</td>\n",
       "      <td>//allen/programs/allencell/data/proj0/c4/62a0f...</td>\n",
       "      <td>Python LAMP1 structure segmentation</td>\n",
       "      <td>70</td>\n",
       "      <td>Pipeline 4.1</td>\n",
       "      <td>True</td>\n",
       "      <td>1609</td>\n",
       "      <td>2</td>\n",
       "      <td>M0</td>\n",
       "    </tr>\n",
       "    <tr>\n",
       "      <th>1</th>\n",
       "      <td>4</td>\n",
       "      <td>4</td>\n",
       "      <td>AICS-22</td>\n",
       "      <td>5</td>\n",
       "      <td>1</td>\n",
       "      <td>6</td>\n",
       "      <td>3</td>\n",
       "      <td>//allen/programs/allencell/data/proj0/0a/dc25b...</td>\n",
       "      <td>//allen/programs/allencell/data/proj0/53/fba6c...</td>\n",
       "      <td>Matlab nucleus/membrane segmentation</td>\n",
       "      <td>...</td>\n",
       "      <td>//allen/programs/allencell/data/proj0/30/6a23a...</td>\n",
       "      <td>Lysosome</td>\n",
       "      <td>//allen/programs/allencell/data/proj0/c4/62a0f...</td>\n",
       "      <td>Python LAMP1 structure segmentation</td>\n",
       "      <td>70</td>\n",
       "      <td>Pipeline 4.1</td>\n",
       "      <td>True</td>\n",
       "      <td>1610</td>\n",
       "      <td>2</td>\n",
       "      <td>M0</td>\n",
       "    </tr>\n",
       "    <tr>\n",
       "      <th>2</th>\n",
       "      <td>8</td>\n",
       "      <td>8</td>\n",
       "      <td>AICS-22</td>\n",
       "      <td>5</td>\n",
       "      <td>1</td>\n",
       "      <td>6</td>\n",
       "      <td>3</td>\n",
       "      <td>//allen/programs/allencell/data/proj0/0a/dc25b...</td>\n",
       "      <td>//allen/programs/allencell/data/proj0/53/fba6c...</td>\n",
       "      <td>Matlab nucleus/membrane segmentation</td>\n",
       "      <td>...</td>\n",
       "      <td>//allen/programs/allencell/data/proj0/30/6a23a...</td>\n",
       "      <td>Lysosome</td>\n",
       "      <td>//allen/programs/allencell/data/proj0/c4/62a0f...</td>\n",
       "      <td>Python LAMP1 structure segmentation</td>\n",
       "      <td>70</td>\n",
       "      <td>Pipeline 4.1</td>\n",
       "      <td>True</td>\n",
       "      <td>1611</td>\n",
       "      <td>2</td>\n",
       "      <td>M0</td>\n",
       "    </tr>\n",
       "    <tr>\n",
       "      <th>3</th>\n",
       "      <td>9</td>\n",
       "      <td>9</td>\n",
       "      <td>AICS-22</td>\n",
       "      <td>5</td>\n",
       "      <td>1</td>\n",
       "      <td>6</td>\n",
       "      <td>3</td>\n",
       "      <td>//allen/programs/allencell/data/proj0/0a/dc25b...</td>\n",
       "      <td>//allen/programs/allencell/data/proj0/53/fba6c...</td>\n",
       "      <td>Matlab nucleus/membrane segmentation</td>\n",
       "      <td>...</td>\n",
       "      <td>//allen/programs/allencell/data/proj0/30/6a23a...</td>\n",
       "      <td>Lysosome</td>\n",
       "      <td>//allen/programs/allencell/data/proj0/c4/62a0f...</td>\n",
       "      <td>Python LAMP1 structure segmentation</td>\n",
       "      <td>70</td>\n",
       "      <td>Pipeline 4.1</td>\n",
       "      <td>True</td>\n",
       "      <td>1612</td>\n",
       "      <td>2</td>\n",
       "      <td>M0</td>\n",
       "    </tr>\n",
       "    <tr>\n",
       "      <th>4</th>\n",
       "      <td>20</td>\n",
       "      <td>3</td>\n",
       "      <td>AICS-22</td>\n",
       "      <td>5</td>\n",
       "      <td>1</td>\n",
       "      <td>6</td>\n",
       "      <td>3</td>\n",
       "      <td>//allen/programs/allencell/data/proj0/4d/4b9e6...</td>\n",
       "      <td>//allen/programs/allencell/data/proj0/15/0c330...</td>\n",
       "      <td>Matlab nucleus/membrane segmentation</td>\n",
       "      <td>...</td>\n",
       "      <td>//allen/programs/allencell/data/proj0/04/32fe4...</td>\n",
       "      <td>Lysosome</td>\n",
       "      <td>//allen/programs/allencell/data/proj0/53/61add...</td>\n",
       "      <td>Python LAMP1 structure segmentation</td>\n",
       "      <td>70</td>\n",
       "      <td>Pipeline 4.1</td>\n",
       "      <td>True</td>\n",
       "      <td>1613</td>\n",
       "      <td>2</td>\n",
       "      <td>M0</td>\n",
       "    </tr>\n",
       "  </tbody>\n",
       "</table>\n",
       "<p>5 rows × 27 columns</p>\n",
       "</div>"
      ],
      "text/plain": [
       "   CellId  CellIndex CellLine  ChannelNumber405  ChannelNumber638  \\\n",
       "0       3          3  AICS-22                 5                 1   \n",
       "1       4          4  AICS-22                 5                 1   \n",
       "2       8          8  AICS-22                 5                 1   \n",
       "3       9          9  AICS-22                 5                 1   \n",
       "4      20          3  AICS-22                 5                 1   \n",
       "\n",
       "   ChannelNumberBrightfield  ChannelNumberStruct  \\\n",
       "0                         6                    3   \n",
       "1                         6                    3   \n",
       "2                         6                    3   \n",
       "3                         6                    3   \n",
       "4                         6                    3   \n",
       "\n",
       "                        MembraneSegmentationReadPath  \\\n",
       "0  //allen/programs/allencell/data/proj0/0a/dc25b...   \n",
       "1  //allen/programs/allencell/data/proj0/0a/dc25b...   \n",
       "2  //allen/programs/allencell/data/proj0/0a/dc25b...   \n",
       "3  //allen/programs/allencell/data/proj0/0a/dc25b...   \n",
       "4  //allen/programs/allencell/data/proj0/4d/4b9e6...   \n",
       "\n",
       "                         NucleusSegmentationReadPath  \\\n",
       "0  //allen/programs/allencell/data/proj0/53/fba6c...   \n",
       "1  //allen/programs/allencell/data/proj0/53/fba6c...   \n",
       "2  //allen/programs/allencell/data/proj0/53/fba6c...   \n",
       "3  //allen/programs/allencell/data/proj0/53/fba6c...   \n",
       "4  //allen/programs/allencell/data/proj0/15/0c330...   \n",
       "\n",
       "           NucMembSegmentationAlgorithm  ...  \\\n",
       "0  Matlab nucleus/membrane segmentation  ...   \n",
       "1  Matlab nucleus/membrane segmentation  ...   \n",
       "2  Matlab nucleus/membrane segmentation  ...   \n",
       "3  Matlab nucleus/membrane segmentation  ...   \n",
       "4  Matlab nucleus/membrane segmentation  ...   \n",
       "\n",
       "                                      SourceReadPath  Structure  \\\n",
       "0  //allen/programs/allencell/data/proj0/30/6a23a...   Lysosome   \n",
       "1  //allen/programs/allencell/data/proj0/30/6a23a...   Lysosome   \n",
       "2  //allen/programs/allencell/data/proj0/30/6a23a...   Lysosome   \n",
       "3  //allen/programs/allencell/data/proj0/30/6a23a...   Lysosome   \n",
       "4  //allen/programs/allencell/data/proj0/04/32fe4...   Lysosome   \n",
       "\n",
       "                       StructureSegmentationReadPath  \\\n",
       "0  //allen/programs/allencell/data/proj0/c4/62a0f...   \n",
       "1  //allen/programs/allencell/data/proj0/c4/62a0f...   \n",
       "2  //allen/programs/allencell/data/proj0/c4/62a0f...   \n",
       "3  //allen/programs/allencell/data/proj0/c4/62a0f...   \n",
       "4  //allen/programs/allencell/data/proj0/53/61add...   \n",
       "\n",
       "        StructureSegmentationAlgorithm  StructureSegmentationAlgorithmVersion  \\\n",
       "0  Python LAMP1 structure segmentation                                     70   \n",
       "1  Python LAMP1 structure segmentation                                     70   \n",
       "2  Python LAMP1 structure segmentation                                     70   \n",
       "3  Python LAMP1 structure segmentation                                     70   \n",
       "4  Python LAMP1 structure segmentation                                     70   \n",
       "\n",
       "       Workflow CompleteSegmentation MitoticAnnotationId MitoticStateId  \\\n",
       "0  Pipeline 4.1                 True                1609              2   \n",
       "1  Pipeline 4.1                 True                1610              2   \n",
       "2  Pipeline 4.1                 True                1611              2   \n",
       "3  Pipeline 4.1                 True                1612              2   \n",
       "4  Pipeline 4.1                 True                1613              2   \n",
       "\n",
       "  MitoticStateName  \n",
       "0               M0  \n",
       "1               M0  \n",
       "2               M0  \n",
       "3               M0  \n",
       "4               M0  \n",
       "\n",
       "[5 rows x 27 columns]"
      ]
     },
     "execution_count": 3,
     "metadata": {},
     "output_type": "execute_result"
    }
   ],
   "source": [
    "ds.data.head()"
   ]
  },
  {
   "cell_type": "code",
   "execution_count": 4,
   "metadata": {},
   "outputs": [
    {
     "name": "stderr",
     "output_type": "stream",
     "text": [
      "Validating: 100%|██████████| 27000/27000 [00:01<00:00, 16979.25it/s] \n"
     ]
    },
    {
     "data": {
      "text/plain": [
       "(local Package)\n",
       " └─MembraneSegmentationReadPath/\n",
       "   └─000e9a78a4c8487491ba0e001d0165f8_dd45ad4fc5d141e0816f07e895199eb3\n",
       "   └─003123c4248a471898b101872a60b900_925f9bab2dc14fd89c5218d3e95e1127\n",
       "   └─003be9e95a1b41c79021776c7a152afd_2d21951907f44bfea308afe33087209e\n",
       "   └─00affcf41a8243e990b918797257a360_66fd5b0fbc684f8184caf86ab0a2776c\n",
       "   └─0130ec47cd7a4a09855d457a9db1b8fd_611d2dfec695427ba8c68f42486b8c5a\n",
       "   └─014c574674484467a75ac1c97ebcf705_4a48d9142e384104b9ea332a919612aa\n",
       "   └─01592d4b4587439db668e740d63a307a_161cd966183740d0a2953b2d4540b27a\n",
       "   └─0176e0006e9c4872b713cae9e59eed52_b23b09298ad14ec89b7916e8b2ec7286\n",
       "   └─017f4de338eb4417a97d1044fdb372b6_4c078107fdd54c1c999c847dfdfce550\n",
       "   └─018fbcb5380e49af8d24e35d2801af9e_e6bf24eed2e046f7a0967777ecfedbbd\n",
       "   └─019132dbe73544a5861b6d2ab9279611_bc94c0f942d24a47821fe4bd17ae99f4\n",
       "   └─01a3c29126f7431f8bd6aeaeb9573a9c_0f92342c4d1a4dfda53c655dbd6f8f3c\n",
       "   └─023bbf013d64455a839bd66fb5154e09_6d14cf31ace64c31b15084c65a451764\n",
       "   └─027d155305e5437e8a91c892609beabe_aff700a174bb4562bd95b980b03b9509\n",
       " └─NucleusSegmentationReadPath/\n",
       " └─README.md\n",
       " └─SourceReadPath/\n",
       " └─StructureSegmentationReadPath/\n",
       " └─metadata.csv\n",
       " ..."
      ]
     },
     "execution_count": 4,
     "metadata": {},
     "output_type": "execute_result"
    }
   ],
   "source": [
    "pkg = ds.distribute()\n",
    "pkg"
   ]
  },
  {
   "cell_type": "code",
   "execution_count": 5,
   "metadata": {},
   "outputs": [
    {
     "data": {
      "text/plain": [
       "{'user_meta': {'MitoticStateName': 'M0',\n",
       "  'Structure': 'Lysosome',\n",
       "  'Protein': 'LAMP-1'}}"
      ]
     },
     "execution_count": 5,
     "metadata": {},
     "output_type": "execute_result"
    }
   ],
   "source": [
    "pkg[\"MembraneSegmentationReadPath\"][\"000e9a78a4c8487491ba0e001d0165f8_dd45ad4fc5d141e0816f07e895199eb3\"].meta"
   ]
  },
  {
   "cell_type": "code",
   "execution_count": null,
   "metadata": {},
   "outputs": [],
   "source": [
    "pkg = ds.distribute(build_location=\"/allen/aics/modeling/t4/\", push_location=\"s3://quilt-aics\", message=\"Initial upload of data\")\n",
    "pkg"
   ]
  }
 ],
 "metadata": {
  "kernelspec": {
   "display_name": "Python 3",
   "language": "python",
   "name": "python3"
  },
  "language_info": {
   "codemirror_mode": {
    "name": "ipython",
    "version": 3
   },
   "file_extension": ".py",
   "mimetype": "text/x-python",
   "name": "python",
   "nbconvert_exporter": "python",
   "pygments_lexer": "ipython3",
   "version": "3.7.3"
  }
 },
 "nbformat": 4,
 "nbformat_minor": 2
}
