{
 "cells": [
  {
   "cell_type": "code",
   "execution_count": 1,
   "metadata": {},
   "outputs": [
    {
     "data": {
      "text/html": [
       "<h1>Fake Readme</h1>\n",
       "\n",
       "<p>hello world</p>\n"
      ],
      "text/plain": [
       "<Dataset [name: cell_cycle_stage_classifications, shape: (1000, 27)]>"
      ]
     },
     "execution_count": 1,
     "metadata": {},
     "output_type": "execute_result"
    }
   ],
   "source": [
    "from t4distribute import Dataset\n",
    "ds = Dataset(\"~/Desktop/cell_cycle_stage_classifications.csv\", \"cell_cycle_stage_classifications\", \"aics\", \"fake.md\")\n",
    "ds"
   ]
  },
  {
   "cell_type": "code",
   "execution_count": 2,
   "metadata": {},
   "outputs": [
    {
     "data": {
      "text/html": [
       "<h1>Fake Readme</h1>\n",
       "\n",
       "<p>hello world</p>\n",
       "\n",
       "<h3>Usage</h3>\n",
       "\n",
       "<p>For documenation on how to use and interact with this dataset please refer to <a href=\"https://docs.quiltdata.com/walkthrough/reading-from-a-package\">https://docs.quiltdata.com/walkthrough/reading-from-a-package</a>.</p>\n",
       "\n",
       "<h3>License</h3>\n",
       "\n",
       "<p>For questions on licensing please refer to <a href=\"https://www.allencell.org/terms-of-use.html\">https://www.allencell.org/terms-of-use.html</a>.</p>\n"
      ],
      "text/plain": [
       "<Dataset [name: cell_cycle_stage_classifications, shape: (1000, 27)]>"
      ]
     },
     "execution_count": 2,
     "metadata": {},
     "output_type": "execute_result"
    }
   ],
   "source": [
    "ds.add_usage_doc(\"https://docs.quiltdata.com/walkthrough/reading-from-a-package\")\n",
    "ds.add_license(\"https://www.allencell.org/terms-of-use.html\")\n",
    "ds.index_on_columns([\"MitoticStateName\", \"Structure\", \"Protein\"])\n",
    "ds"
   ]
  },
  {
   "cell_type": "code",
   "execution_count": 3,
   "metadata": {},
   "outputs": [
    {
     "data": {
      "text/html": [
       "<div>\n",
       "<style scoped>\n",
       "    .dataframe tbody tr th:only-of-type {\n",
       "        vertical-align: middle;\n",
       "    }\n",
       "\n",
       "    .dataframe tbody tr th {\n",
       "        vertical-align: top;\n",
       "    }\n",
       "\n",
       "    .dataframe thead th {\n",
       "        text-align: right;\n",
       "    }\n",
       "</style>\n",
       "<table border=\"1\" class=\"dataframe\">\n",
       "  <thead>\n",
       "    <tr style=\"text-align: right;\">\n",
       "      <th></th>\n",
       "      <th>CellId</th>\n",
       "      <th>CellIndex</th>\n",
       "      <th>CellLine</th>\n",
       "      <th>ChannelNumber405</th>\n",
       "      <th>ChannelNumber638</th>\n",
       "      <th>ChannelNumberBrightfield</th>\n",
       "      <th>ChannelNumberStruct</th>\n",
       "      <th>MembraneSegmentationReadPath</th>\n",
       "      <th>NucleusSegmentationReadPath</th>\n",
       "      <th>NucMembSegmentationAlgorithm</th>\n",
       "      <th>...</th>\n",
       "      <th>SourceReadPath</th>\n",
       "      <th>Structure</th>\n",
       "      <th>StructureSegmentationReadPath</th>\n",
       "      <th>StructureSegmentationAlgorithm</th>\n",
       "      <th>StructureSegmentationAlgorithmVersion</th>\n",
       "      <th>Workflow</th>\n",
       "      <th>CompleteSegmentation</th>\n",
       "      <th>MitoticAnnotationId</th>\n",
       "      <th>MitoticStateId</th>\n",
       "      <th>MitoticStateName</th>\n",
       "    </tr>\n",
       "  </thead>\n",
       "  <tbody>\n",
       "    <tr>\n",
       "      <th>0</th>\n",
       "      <td>3</td>\n",
       "      <td>3</td>\n",
       "      <td>AICS-22</td>\n",
       "      <td>5</td>\n",
       "      <td>1</td>\n",
       "      <td>6</td>\n",
       "      <td>3</td>\n",
       "      <td>//allen/programs/allencell/data/proj0/0a/dc25b...</td>\n",
       "      <td>//allen/programs/allencell/data/proj0/53/fba6c...</td>\n",
       "      <td>Matlab nucleus/membrane segmentation</td>\n",
       "      <td>...</td>\n",
       "      <td>//allen/programs/allencell/data/proj0/30/6a23a...</td>\n",
       "      <td>Lysosome</td>\n",
       "      <td>//allen/programs/allencell/data/proj0/c4/62a0f...</td>\n",
       "      <td>Python LAMP1 structure segmentation</td>\n",
       "      <td>70</td>\n",
       "      <td>Pipeline 4.1</td>\n",
       "      <td>True</td>\n",
       "      <td>1609</td>\n",
       "      <td>2</td>\n",
       "      <td>M0</td>\n",
       "    </tr>\n",
       "    <tr>\n",
       "      <th>1</th>\n",
       "      <td>4</td>\n",
       "      <td>4</td>\n",
       "      <td>AICS-22</td>\n",
       "      <td>5</td>\n",
       "      <td>1</td>\n",
       "      <td>6</td>\n",
       "      <td>3</td>\n",
       "      <td>//allen/programs/allencell/data/proj0/0a/dc25b...</td>\n",
       "      <td>//allen/programs/allencell/data/proj0/53/fba6c...</td>\n",
       "      <td>Matlab nucleus/membrane segmentation</td>\n",
       "      <td>...</td>\n",
       "      <td>//allen/programs/allencell/data/proj0/30/6a23a...</td>\n",
       "      <td>Lysosome</td>\n",
       "      <td>//allen/programs/allencell/data/proj0/c4/62a0f...</td>\n",
       "      <td>Python LAMP1 structure segmentation</td>\n",
       "      <td>70</td>\n",
       "      <td>Pipeline 4.1</td>\n",
       "      <td>True</td>\n",
       "      <td>1610</td>\n",
       "      <td>2</td>\n",
       "      <td>M0</td>\n",
       "    </tr>\n",
       "    <tr>\n",
       "      <th>2</th>\n",
       "      <td>8</td>\n",
       "      <td>8</td>\n",
       "      <td>AICS-22</td>\n",
       "      <td>5</td>\n",
       "      <td>1</td>\n",
       "      <td>6</td>\n",
       "      <td>3</td>\n",
       "      <td>//allen/programs/allencell/data/proj0/0a/dc25b...</td>\n",
       "      <td>//allen/programs/allencell/data/proj0/53/fba6c...</td>\n",
       "      <td>Matlab nucleus/membrane segmentation</td>\n",
       "      <td>...</td>\n",
       "      <td>//allen/programs/allencell/data/proj0/30/6a23a...</td>\n",
       "      <td>Lysosome</td>\n",
       "      <td>//allen/programs/allencell/data/proj0/c4/62a0f...</td>\n",
       "      <td>Python LAMP1 structure segmentation</td>\n",
       "      <td>70</td>\n",
       "      <td>Pipeline 4.1</td>\n",
       "      <td>True</td>\n",
       "      <td>1611</td>\n",
       "      <td>2</td>\n",
       "      <td>M0</td>\n",
       "    </tr>\n",
       "    <tr>\n",
       "      <th>3</th>\n",
       "      <td>9</td>\n",
       "      <td>9</td>\n",
       "      <td>AICS-22</td>\n",
       "      <td>5</td>\n",
       "      <td>1</td>\n",
       "      <td>6</td>\n",
       "      <td>3</td>\n",
       "      <td>//allen/programs/allencell/data/proj0/0a/dc25b...</td>\n",
       "      <td>//allen/programs/allencell/data/proj0/53/fba6c...</td>\n",
       "      <td>Matlab nucleus/membrane segmentation</td>\n",
       "      <td>...</td>\n",
       "      <td>//allen/programs/allencell/data/proj0/30/6a23a...</td>\n",
       "      <td>Lysosome</td>\n",
       "      <td>//allen/programs/allencell/data/proj0/c4/62a0f...</td>\n",
       "      <td>Python LAMP1 structure segmentation</td>\n",
       "      <td>70</td>\n",
       "      <td>Pipeline 4.1</td>\n",
       "      <td>True</td>\n",
       "      <td>1612</td>\n",
       "      <td>2</td>\n",
       "      <td>M0</td>\n",
       "    </tr>\n",
       "    <tr>\n",
       "      <th>4</th>\n",
       "      <td>20</td>\n",
       "      <td>3</td>\n",
       "      <td>AICS-22</td>\n",
       "      <td>5</td>\n",
       "      <td>1</td>\n",
       "      <td>6</td>\n",
       "      <td>3</td>\n",
       "      <td>//allen/programs/allencell/data/proj0/4d/4b9e6...</td>\n",
       "      <td>//allen/programs/allencell/data/proj0/15/0c330...</td>\n",
       "      <td>Matlab nucleus/membrane segmentation</td>\n",
       "      <td>...</td>\n",
       "      <td>//allen/programs/allencell/data/proj0/04/32fe4...</td>\n",
       "      <td>Lysosome</td>\n",
       "      <td>//allen/programs/allencell/data/proj0/53/61add...</td>\n",
       "      <td>Python LAMP1 structure segmentation</td>\n",
       "      <td>70</td>\n",
       "      <td>Pipeline 4.1</td>\n",
       "      <td>True</td>\n",
       "      <td>1613</td>\n",
       "      <td>2</td>\n",
       "      <td>M0</td>\n",
       "    </tr>\n",
       "  </tbody>\n",
       "</table>\n",
       "<p>5 rows × 27 columns</p>\n",
       "</div>"
      ],
      "text/plain": [
       "   CellId  CellIndex CellLine  ChannelNumber405  ChannelNumber638  \\\n",
       "0       3          3  AICS-22                 5                 1   \n",
       "1       4          4  AICS-22                 5                 1   \n",
       "2       8          8  AICS-22                 5                 1   \n",
       "3       9          9  AICS-22                 5                 1   \n",
       "4      20          3  AICS-22                 5                 1   \n",
       "\n",
       "   ChannelNumberBrightfield  ChannelNumberStruct  \\\n",
       "0                         6                    3   \n",
       "1                         6                    3   \n",
       "2                         6                    3   \n",
       "3                         6                    3   \n",
       "4                         6                    3   \n",
       "\n",
       "                        MembraneSegmentationReadPath  \\\n",
       "0  //allen/programs/allencell/data/proj0/0a/dc25b...   \n",
       "1  //allen/programs/allencell/data/proj0/0a/dc25b...   \n",
       "2  //allen/programs/allencell/data/proj0/0a/dc25b...   \n",
       "3  //allen/programs/allencell/data/proj0/0a/dc25b...   \n",
       "4  //allen/programs/allencell/data/proj0/4d/4b9e6...   \n",
       "\n",
       "                         NucleusSegmentationReadPath  \\\n",
       "0  //allen/programs/allencell/data/proj0/53/fba6c...   \n",
       "1  //allen/programs/allencell/data/proj0/53/fba6c...   \n",
       "2  //allen/programs/allencell/data/proj0/53/fba6c...   \n",
       "3  //allen/programs/allencell/data/proj0/53/fba6c...   \n",
       "4  //allen/programs/allencell/data/proj0/15/0c330...   \n",
       "\n",
       "           NucMembSegmentationAlgorithm  ...  \\\n",
       "0  Matlab nucleus/membrane segmentation  ...   \n",
       "1  Matlab nucleus/membrane segmentation  ...   \n",
       "2  Matlab nucleus/membrane segmentation  ...   \n",
       "3  Matlab nucleus/membrane segmentation  ...   \n",
       "4  Matlab nucleus/membrane segmentation  ...   \n",
       "\n",
       "                                      SourceReadPath  Structure  \\\n",
       "0  //allen/programs/allencell/data/proj0/30/6a23a...   Lysosome   \n",
       "1  //allen/programs/allencell/data/proj0/30/6a23a...   Lysosome   \n",
       "2  //allen/programs/allencell/data/proj0/30/6a23a...   Lysosome   \n",
       "3  //allen/programs/allencell/data/proj0/30/6a23a...   Lysosome   \n",
       "4  //allen/programs/allencell/data/proj0/04/32fe4...   Lysosome   \n",
       "\n",
       "                       StructureSegmentationReadPath  \\\n",
       "0  //allen/programs/allencell/data/proj0/c4/62a0f...   \n",
       "1  //allen/programs/allencell/data/proj0/c4/62a0f...   \n",
       "2  //allen/programs/allencell/data/proj0/c4/62a0f...   \n",
       "3  //allen/programs/allencell/data/proj0/c4/62a0f...   \n",
       "4  //allen/programs/allencell/data/proj0/53/61add...   \n",
       "\n",
       "        StructureSegmentationAlgorithm  StructureSegmentationAlgorithmVersion  \\\n",
       "0  Python LAMP1 structure segmentation                                     70   \n",
       "1  Python LAMP1 structure segmentation                                     70   \n",
       "2  Python LAMP1 structure segmentation                                     70   \n",
       "3  Python LAMP1 structure segmentation                                     70   \n",
       "4  Python LAMP1 structure segmentation                                     70   \n",
       "\n",
       "       Workflow CompleteSegmentation MitoticAnnotationId MitoticStateId  \\\n",
       "0  Pipeline 4.1                 True                1609              2   \n",
       "1  Pipeline 4.1                 True                1610              2   \n",
       "2  Pipeline 4.1                 True                1611              2   \n",
       "3  Pipeline 4.1                 True                1612              2   \n",
       "4  Pipeline 4.1                 True                1613              2   \n",
       "\n",
       "  MitoticStateName  \n",
       "0               M0  \n",
       "1               M0  \n",
       "2               M0  \n",
       "3               M0  \n",
       "4               M0  \n",
       "\n",
       "[5 rows x 27 columns]"
      ]
     },
     "execution_count": 3,
     "metadata": {},
     "output_type": "execute_result"
    }
   ],
   "source": [
    "ds.data.head()"
   ]
  },
  {
   "cell_type": "code",
   "execution_count": 4,
   "metadata": {},
   "outputs": [
    {
     "name": "stderr",
     "output_type": "stream",
     "text": [
      "Validating: 100%|██████████| 27000/27000 [00:00<00:00, 158244.66it/s]\n"
     ]
    },
    {
     "data": {
      "text/plain": [
       "(local Package)\n",
       " └─MembraneSegmentationReadPath/\n",
       "   └─007b39e55bb84ad197ab89f32a1371e8_22ec3139d90e4f59a467bc896d7d9c96\n",
       "   └─00d841a8915143848f087c347f047735_178ee3fc6ce245a3b93f0806787f2376\n",
       "   └─012162a9c8104397a5eb8a98be83210d_7dfdca5f98ae4692af8179a6a0f06c52\n",
       "   └─013f7992e8ad42b799defe2357d28f58_50a88b1e3bb0475d8f9cc5131d574c93\n",
       "   └─01bb72b72c4b452e8a20807f29e118fe_6b58f8d6f7244bc1b37a6da727b20b94\n",
       "   └─02cbdd5167bb40fcae3c9f3e6aedfdfe_78a78f86a431411a8ad0f416e227eac3\n",
       "   └─0303e16e728d4f52beea72de240f3abe_dd45ad4fc5d141e0816f07e895199eb3\n",
       "   └─037d2e50b0ae42fb893414a4095fe15a_74c20b3d698c47e79f7b6971685e125a\n",
       "   └─03f1593d0f5743b389b1dadde41aa35f_51e5f09181394764974fb6801756bf7c\n",
       "   └─041e9b25c03f4bb8b39f69aa8f1ee089_414779672d4e4268a8f1037a66ed4789\n",
       "   └─043276a1dda449c5ace59f6b497f03b0_c05479d7d8ed48a6ab8570577aa56cfa\n",
       "   └─04ac8cc6f4c644d5b5050aa29b113833_b653e120ea7e4c75bc04945396ad9e70\n",
       "   └─04cb946bc7f14743857ea4e644008c87_7e27d288cdb3409093bd87560d3b5f89\n",
       "   └─04d67afa8c4f47cc92b3a0597dbe8a52_bf46a5191694490fb808ccf00eebeece\n",
       " └─NucleusSegmentationReadPath/\n",
       " └─README.md\n",
       " └─SourceReadPath/\n",
       " └─StructureSegmentationReadPath/\n",
       " └─metadata.csv\n",
       " ..."
      ]
     },
     "execution_count": 4,
     "metadata": {},
     "output_type": "execute_result"
    }
   ],
   "source": [
    "pkg = ds.distribute()\n",
    "pkg"
   ]
  },
  {
   "cell_type": "code",
   "execution_count": 5,
   "metadata": {},
   "outputs": [
    {
     "data": {
      "text/plain": [
       "{'user_meta': {'MitoticStateName': 'M6/M7',\n",
       "  'Structure': 'Lysosome',\n",
       "  'Protein': 'LAMP-1'}}"
      ]
     },
     "execution_count": 5,
     "metadata": {},
     "output_type": "execute_result"
    }
   ],
   "source": [
    "pkg[\"MembraneSegmentationReadPath\"][\"007b39e55bb84ad197ab89f32a1371e8_22ec3139d90e4f59a467bc896d7d9c96\"].meta"
   ]
  },
  {
   "cell_type": "code",
   "execution_count": null,
   "metadata": {},
   "outputs": [],
   "source": [
    "pkg = ds.distribute(build_location=\"/allen/aics/modeling/t4/\", push_location=\"s3://quilt-aics\", message=\"Initial upload of data\")\n",
    "pkg"
   ]
  }
 ],
 "metadata": {
  "kernelspec": {
   "display_name": "Python 3",
   "language": "python",
   "name": "python3"
  },
  "language_info": {
   "codemirror_mode": {
    "name": "ipython",
    "version": 3
   },
   "file_extension": ".py",
   "mimetype": "text/x-python",
   "name": "python",
   "nbconvert_exporter": "python",
   "pygments_lexer": "ipython3",
   "version": "3.7.3"
  }
 },
 "nbformat": 4,
 "nbformat_minor": 2
}
