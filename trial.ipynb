{
 "cells": [
  {
   "cell_type": "code",
   "execution_count": 1,
   "metadata": {},
   "outputs": [
    {
     "data": {
      "text/html": [
       "<h1>Fake Readme</h1>\n",
       "\n",
       "<p>hello world</p>\n"
      ],
      "text/plain": [
       "<Dataset [package: aics/cell_cycle_stage_classifications, shape: (1000, 27)]>"
      ]
     },
     "execution_count": 1,
     "metadata": {},
     "output_type": "execute_result"
    }
   ],
   "source": [
    "from t4distribute import Dataset\n",
    "ds = Dataset(\"~/Desktop/cell_cycle_stage_classifications.csv\", \"cell_cycle_stage_classifications\", \"aics\", \"fake.md\")\n",
    "ds"
   ]
  },
  {
   "cell_type": "code",
   "execution_count": 2,
   "metadata": {},
   "outputs": [
    {
     "name": "stdout",
     "output_type": "stream",
     "text": [
      "<Dataset [package: aics/cell_cycle_stage_classifications, shape: (1000, 27)]>\n"
     ]
    }
   ],
   "source": [
    "print(ds)"
   ]
  },
  {
   "cell_type": "code",
   "execution_count": 3,
   "metadata": {},
   "outputs": [
    {
     "data": {
      "text/html": [
       "<h1>Fake Readme</h1>\n",
       "\n",
       "<p>hello world</p>\n",
       "\n",
       "<h3>Usage</h3>\n",
       "\n",
       "<p>For documenation on how to use and interact with this dataset please refer to <a href=\"https://docs.quiltdata.com/walkthrough/reading-from-a-package\">https://docs.quiltdata.com/walkthrough/reading-from-a-package</a>.</p>\n",
       "\n",
       "<h3>License</h3>\n",
       "\n",
       "<p>For questions on licensing please refer to <a href=\"https://www.allencell.org/terms-of-use.html\">https://www.allencell.org/terms-of-use.html</a>.</p>\n"
      ],
      "text/plain": [
       "<Dataset [package: aics/cell_cycle_stage_classifications, shape: (1000, 27)]>"
      ]
     },
     "execution_count": 3,
     "metadata": {},
     "output_type": "execute_result"
    }
   ],
   "source": [
    "ds.add_usage_doc(\"https://docs.quiltdata.com/walkthrough/reading-from-a-package\")\n",
    "ds.add_license(\"https://www.allencell.org/terms-of-use.html\")\n",
    "ds.index_on_columns([\"MitoticStateName\", \"Structure\", \"Protein\"])\n",
    "ds"
   ]
  },
  {
   "cell_type": "code",
   "execution_count": 4,
   "metadata": {},
   "outputs": [
    {
     "data": {
      "text/html": [
       "<div>\n",
       "<style scoped>\n",
       "    .dataframe tbody tr th:only-of-type {\n",
       "        vertical-align: middle;\n",
       "    }\n",
       "\n",
       "    .dataframe tbody tr th {\n",
       "        vertical-align: top;\n",
       "    }\n",
       "\n",
       "    .dataframe thead th {\n",
       "        text-align: right;\n",
       "    }\n",
       "</style>\n",
       "<table border=\"1\" class=\"dataframe\">\n",
       "  <thead>\n",
       "    <tr style=\"text-align: right;\">\n",
       "      <th></th>\n",
       "      <th>CellId</th>\n",
       "      <th>CellIndex</th>\n",
       "      <th>CellLine</th>\n",
       "      <th>ChannelNumber405</th>\n",
       "      <th>ChannelNumber638</th>\n",
       "      <th>ChannelNumberBrightfield</th>\n",
       "      <th>ChannelNumberStruct</th>\n",
       "      <th>MembraneSegmentationReadPath</th>\n",
       "      <th>NucleusSegmentationReadPath</th>\n",
       "      <th>NucMembSegmentationAlgorithm</th>\n",
       "      <th>...</th>\n",
       "      <th>SourceReadPath</th>\n",
       "      <th>Structure</th>\n",
       "      <th>StructureSegmentationReadPath</th>\n",
       "      <th>StructureSegmentationAlgorithm</th>\n",
       "      <th>StructureSegmentationAlgorithmVersion</th>\n",
       "      <th>Workflow</th>\n",
       "      <th>CompleteSegmentation</th>\n",
       "      <th>MitoticAnnotationId</th>\n",
       "      <th>MitoticStateId</th>\n",
       "      <th>MitoticStateName</th>\n",
       "    </tr>\n",
       "  </thead>\n",
       "  <tbody>\n",
       "    <tr>\n",
       "      <th>0</th>\n",
       "      <td>3</td>\n",
       "      <td>3</td>\n",
       "      <td>AICS-22</td>\n",
       "      <td>5</td>\n",
       "      <td>1</td>\n",
       "      <td>6</td>\n",
       "      <td>3</td>\n",
       "      <td>//allen/programs/allencell/data/proj0/0a/dc25b...</td>\n",
       "      <td>//allen/programs/allencell/data/proj0/53/fba6c...</td>\n",
       "      <td>Matlab nucleus/membrane segmentation</td>\n",
       "      <td>...</td>\n",
       "      <td>//allen/programs/allencell/data/proj0/30/6a23a...</td>\n",
       "      <td>Lysosome</td>\n",
       "      <td>//allen/programs/allencell/data/proj0/c4/62a0f...</td>\n",
       "      <td>Python LAMP1 structure segmentation</td>\n",
       "      <td>70</td>\n",
       "      <td>Pipeline 4.1</td>\n",
       "      <td>True</td>\n",
       "      <td>1609</td>\n",
       "      <td>2</td>\n",
       "      <td>M0</td>\n",
       "    </tr>\n",
       "    <tr>\n",
       "      <th>1</th>\n",
       "      <td>4</td>\n",
       "      <td>4</td>\n",
       "      <td>AICS-22</td>\n",
       "      <td>5</td>\n",
       "      <td>1</td>\n",
       "      <td>6</td>\n",
       "      <td>3</td>\n",
       "      <td>//allen/programs/allencell/data/proj0/0a/dc25b...</td>\n",
       "      <td>//allen/programs/allencell/data/proj0/53/fba6c...</td>\n",
       "      <td>Matlab nucleus/membrane segmentation</td>\n",
       "      <td>...</td>\n",
       "      <td>//allen/programs/allencell/data/proj0/30/6a23a...</td>\n",
       "      <td>Lysosome</td>\n",
       "      <td>//allen/programs/allencell/data/proj0/c4/62a0f...</td>\n",
       "      <td>Python LAMP1 structure segmentation</td>\n",
       "      <td>70</td>\n",
       "      <td>Pipeline 4.1</td>\n",
       "      <td>True</td>\n",
       "      <td>1610</td>\n",
       "      <td>2</td>\n",
       "      <td>M0</td>\n",
       "    </tr>\n",
       "    <tr>\n",
       "      <th>2</th>\n",
       "      <td>8</td>\n",
       "      <td>8</td>\n",
       "      <td>AICS-22</td>\n",
       "      <td>5</td>\n",
       "      <td>1</td>\n",
       "      <td>6</td>\n",
       "      <td>3</td>\n",
       "      <td>//allen/programs/allencell/data/proj0/0a/dc25b...</td>\n",
       "      <td>//allen/programs/allencell/data/proj0/53/fba6c...</td>\n",
       "      <td>Matlab nucleus/membrane segmentation</td>\n",
       "      <td>...</td>\n",
       "      <td>//allen/programs/allencell/data/proj0/30/6a23a...</td>\n",
       "      <td>Lysosome</td>\n",
       "      <td>//allen/programs/allencell/data/proj0/c4/62a0f...</td>\n",
       "      <td>Python LAMP1 structure segmentation</td>\n",
       "      <td>70</td>\n",
       "      <td>Pipeline 4.1</td>\n",
       "      <td>True</td>\n",
       "      <td>1611</td>\n",
       "      <td>2</td>\n",
       "      <td>M0</td>\n",
       "    </tr>\n",
       "    <tr>\n",
       "      <th>3</th>\n",
       "      <td>9</td>\n",
       "      <td>9</td>\n",
       "      <td>AICS-22</td>\n",
       "      <td>5</td>\n",
       "      <td>1</td>\n",
       "      <td>6</td>\n",
       "      <td>3</td>\n",
       "      <td>//allen/programs/allencell/data/proj0/0a/dc25b...</td>\n",
       "      <td>//allen/programs/allencell/data/proj0/53/fba6c...</td>\n",
       "      <td>Matlab nucleus/membrane segmentation</td>\n",
       "      <td>...</td>\n",
       "      <td>//allen/programs/allencell/data/proj0/30/6a23a...</td>\n",
       "      <td>Lysosome</td>\n",
       "      <td>//allen/programs/allencell/data/proj0/c4/62a0f...</td>\n",
       "      <td>Python LAMP1 structure segmentation</td>\n",
       "      <td>70</td>\n",
       "      <td>Pipeline 4.1</td>\n",
       "      <td>True</td>\n",
       "      <td>1612</td>\n",
       "      <td>2</td>\n",
       "      <td>M0</td>\n",
       "    </tr>\n",
       "    <tr>\n",
       "      <th>4</th>\n",
       "      <td>20</td>\n",
       "      <td>3</td>\n",
       "      <td>AICS-22</td>\n",
       "      <td>5</td>\n",
       "      <td>1</td>\n",
       "      <td>6</td>\n",
       "      <td>3</td>\n",
       "      <td>//allen/programs/allencell/data/proj0/4d/4b9e6...</td>\n",
       "      <td>//allen/programs/allencell/data/proj0/15/0c330...</td>\n",
       "      <td>Matlab nucleus/membrane segmentation</td>\n",
       "      <td>...</td>\n",
       "      <td>//allen/programs/allencell/data/proj0/04/32fe4...</td>\n",
       "      <td>Lysosome</td>\n",
       "      <td>//allen/programs/allencell/data/proj0/53/61add...</td>\n",
       "      <td>Python LAMP1 structure segmentation</td>\n",
       "      <td>70</td>\n",
       "      <td>Pipeline 4.1</td>\n",
       "      <td>True</td>\n",
       "      <td>1613</td>\n",
       "      <td>2</td>\n",
       "      <td>M0</td>\n",
       "    </tr>\n",
       "  </tbody>\n",
       "</table>\n",
       "<p>5 rows × 27 columns</p>\n",
       "</div>"
      ],
      "text/plain": [
       "   CellId  CellIndex CellLine  ChannelNumber405  ChannelNumber638  \\\n",
       "0       3          3  AICS-22                 5                 1   \n",
       "1       4          4  AICS-22                 5                 1   \n",
       "2       8          8  AICS-22                 5                 1   \n",
       "3       9          9  AICS-22                 5                 1   \n",
       "4      20          3  AICS-22                 5                 1   \n",
       "\n",
       "   ChannelNumberBrightfield  ChannelNumberStruct  \\\n",
       "0                         6                    3   \n",
       "1                         6                    3   \n",
       "2                         6                    3   \n",
       "3                         6                    3   \n",
       "4                         6                    3   \n",
       "\n",
       "                        MembraneSegmentationReadPath  \\\n",
       "0  //allen/programs/allencell/data/proj0/0a/dc25b...   \n",
       "1  //allen/programs/allencell/data/proj0/0a/dc25b...   \n",
       "2  //allen/programs/allencell/data/proj0/0a/dc25b...   \n",
       "3  //allen/programs/allencell/data/proj0/0a/dc25b...   \n",
       "4  //allen/programs/allencell/data/proj0/4d/4b9e6...   \n",
       "\n",
       "                         NucleusSegmentationReadPath  \\\n",
       "0  //allen/programs/allencell/data/proj0/53/fba6c...   \n",
       "1  //allen/programs/allencell/data/proj0/53/fba6c...   \n",
       "2  //allen/programs/allencell/data/proj0/53/fba6c...   \n",
       "3  //allen/programs/allencell/data/proj0/53/fba6c...   \n",
       "4  //allen/programs/allencell/data/proj0/15/0c330...   \n",
       "\n",
       "           NucMembSegmentationAlgorithm  ...  \\\n",
       "0  Matlab nucleus/membrane segmentation  ...   \n",
       "1  Matlab nucleus/membrane segmentation  ...   \n",
       "2  Matlab nucleus/membrane segmentation  ...   \n",
       "3  Matlab nucleus/membrane segmentation  ...   \n",
       "4  Matlab nucleus/membrane segmentation  ...   \n",
       "\n",
       "                                      SourceReadPath  Structure  \\\n",
       "0  //allen/programs/allencell/data/proj0/30/6a23a...   Lysosome   \n",
       "1  //allen/programs/allencell/data/proj0/30/6a23a...   Lysosome   \n",
       "2  //allen/programs/allencell/data/proj0/30/6a23a...   Lysosome   \n",
       "3  //allen/programs/allencell/data/proj0/30/6a23a...   Lysosome   \n",
       "4  //allen/programs/allencell/data/proj0/04/32fe4...   Lysosome   \n",
       "\n",
       "                       StructureSegmentationReadPath  \\\n",
       "0  //allen/programs/allencell/data/proj0/c4/62a0f...   \n",
       "1  //allen/programs/allencell/data/proj0/c4/62a0f...   \n",
       "2  //allen/programs/allencell/data/proj0/c4/62a0f...   \n",
       "3  //allen/programs/allencell/data/proj0/c4/62a0f...   \n",
       "4  //allen/programs/allencell/data/proj0/53/61add...   \n",
       "\n",
       "        StructureSegmentationAlgorithm  StructureSegmentationAlgorithmVersion  \\\n",
       "0  Python LAMP1 structure segmentation                                     70   \n",
       "1  Python LAMP1 structure segmentation                                     70   \n",
       "2  Python LAMP1 structure segmentation                                     70   \n",
       "3  Python LAMP1 structure segmentation                                     70   \n",
       "4  Python LAMP1 structure segmentation                                     70   \n",
       "\n",
       "       Workflow CompleteSegmentation MitoticAnnotationId MitoticStateId  \\\n",
       "0  Pipeline 4.1                 True                1609              2   \n",
       "1  Pipeline 4.1                 True                1610              2   \n",
       "2  Pipeline 4.1                 True                1611              2   \n",
       "3  Pipeline 4.1                 True                1612              2   \n",
       "4  Pipeline 4.1                 True                1613              2   \n",
       "\n",
       "  MitoticStateName  \n",
       "0               M0  \n",
       "1               M0  \n",
       "2               M0  \n",
       "3               M0  \n",
       "4               M0  \n",
       "\n",
       "[5 rows x 27 columns]"
      ]
     },
     "execution_count": 4,
     "metadata": {},
     "output_type": "execute_result"
    }
   ],
   "source": [
    "ds.data.head()"
   ]
  },
  {
   "cell_type": "code",
   "execution_count": 5,
   "metadata": {},
   "outputs": [
    {
     "name": "stderr",
     "output_type": "stream",
     "text": [
      "Validating:  93%|█████████▎| 25095/27000 [00:01<00:00, 13730.80it/s] \n"
     ]
    },
    {
     "data": {
      "text/plain": [
       "(local Package)\n",
       " └─MembraneSegmentationReadPath/\n",
       "   └─002af94ab27f413c87fc4e8a53e3e003_fdf16bdedd574c0b90a99ce225d03fdf\n",
       "   └─003c5758befb496b8e6cff4d086fa26f_38202f4bebf6484d9a251f151a954156\n",
       "   └─009d406da1624302a6ad23ef460c5e00_bc94c0f942d24a47821fe4bd17ae99f4\n",
       "   └─00a764d48de24a33b316422a43c5f622_8cfa098b09d3411db02c294881b23eb8\n",
       "   └─00ac776e64e844a39e5afd15c046e3d0_50a5e6fefd94411bb6c69736e0b451f3\n",
       "   └─00e2175d90cc4462b5e9bf4c39526223_6fe4695804ed4060a0778826214417a2\n",
       "   └─0109f8fa11d64273bc8b044cc287c6bb_ac81708742124db0a7b414b22933ba7b\n",
       "   └─0115333d68f44b349f4fca71d2e2cadc_cfcd398345dd473fac7048906366b3da\n",
       "   └─013df840b89948a481ecffd81efdd6f4_bfe7955210074c9888326c1ea1c28eeb\n",
       "   └─014bf8c383a746feae7b24e6bafac4c0_b261977ed95f4f419089d956696523bd\n",
       "   └─01e5205a00a74f8d991c6ae5a79f6c9e_d4c1f680b2c64548aa4d47670b53713d\n",
       "   └─0223bf2d646a45dda285fad301005e0b_aff700a174bb4562bd95b980b03b9509\n",
       "   └─02395667268f4fcd93059372abdd1bcf_516b00a600344bfeb651b803eb078a9a\n",
       "   └─02a19494d06045119109656ae69bdf6f_5d7abd9e591a4a1490cf66953f7e9b03\n",
       " └─NucleusSegmentationReadPath/\n",
       " └─README.md\n",
       " └─SourceReadPath/\n",
       " └─StructureSegmentationReadPath/\n",
       " └─metadata.csv\n",
       " ..."
      ]
     },
     "execution_count": 5,
     "metadata": {},
     "output_type": "execute_result"
    }
   ],
   "source": [
    "pkg = ds.distribute()\n",
    "pkg"
   ]
  },
  {
   "cell_type": "code",
   "execution_count": 6,
   "metadata": {},
   "outputs": [
    {
     "data": {
      "text/plain": [
       "{'user_meta': {'MitoticStateName': 'M0',\n",
       "  'Structure': 'Lysosome',\n",
       "  'Protein': 'LAMP-1'}}"
      ]
     },
     "execution_count": 6,
     "metadata": {},
     "output_type": "execute_result"
    }
   ],
   "source": [
    "pkg[\"MembraneSegmentationReadPath\"][\"002af94ab27f413c87fc4e8a53e3e003_fdf16bdedd574c0b90a99ce225d03fdf\"].meta"
   ]
  },
  {
   "cell_type": "code",
   "execution_count": null,
   "metadata": {},
   "outputs": [],
   "source": [
    "pkg = ds.distribute(push_uri=\"s3://quilt-aics\", message=\"Initial upload of data\")\n",
    "pkg"
   ]
  }
 ],
 "metadata": {
  "kernelspec": {
   "display_name": "Python 3",
   "language": "python",
   "name": "python3"
  },
  "language_info": {
   "codemirror_mode": {
    "name": "ipython",
    "version": 3
   },
   "file_extension": ".py",
   "mimetype": "text/x-python",
   "name": "python",
   "nbconvert_exporter": "python",
   "pygments_lexer": "ipython3",
   "version": "3.7.3"
  }
 },
 "nbformat": 4,
 "nbformat_minor": 2
}
