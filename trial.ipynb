{
 "cells": [
  {
   "cell_type": "code",
   "execution_count": 1,
   "metadata": {},
   "outputs": [
    {
     "data": {
      "text/html": [
       "<h1>Fake Readme</h1>\n",
       "\n",
       "<p>hello world</p>\n"
      ],
      "text/plain": [
       "<Dataset [package: aics/cell_cycle_stage_classifications, shape: (1000, 27)]>"
      ]
     },
     "execution_count": 1,
     "metadata": {},
     "output_type": "execute_result"
    }
   ],
   "source": [
    "from t4distribute import Dataset\n",
    "ds = Dataset(\"~/Desktop/cell_cycle_stage_classifications.csv\", \"cell_cycle_stage_classifications\", \"aics\", \"fake.md\")\n",
    "ds"
   ]
  },
  {
   "cell_type": "code",
   "execution_count": 2,
   "metadata": {},
   "outputs": [
    {
     "name": "stdout",
     "output_type": "stream",
     "text": [
      "<Dataset [package: aics/cell_cycle_stage_classifications, shape: (1000, 27)]>\n"
     ]
    }
   ],
   "source": [
    "print(ds)"
   ]
  },
  {
   "cell_type": "code",
   "execution_count": 3,
   "metadata": {},
   "outputs": [
    {
     "data": {
      "text/html": [
       "<h1>Fake Readme</h1>\n",
       "\n",
       "<p>hello world</p>\n",
       "\n",
       "<h3>Usage</h3>\n",
       "\n",
       "<p>For documenation on how to use and interact with this dataset please refer to <a href=\"https://docs.quiltdata.com/walkthrough/reading-from-a-package\">https://docs.quiltdata.com/walkthrough/reading-from-a-package</a>.</p>\n",
       "\n",
       "<h3>License</h3>\n",
       "\n",
       "<p>For questions on licensing please refer to <a href=\"https://www.allencell.org/terms-of-use.html\">https://www.allencell.org/terms-of-use.html</a>.</p>\n"
      ],
      "text/plain": [
       "<Dataset [package: aics/cell_cycle_stage_classifications, shape: (1000, 27)]>"
      ]
     },
     "execution_count": 3,
     "metadata": {},
     "output_type": "execute_result"
    }
   ],
   "source": [
    "ds.add_usage_doc(\"https://docs.quiltdata.com/walkthrough/reading-from-a-package\")\n",
    "ds.add_license(\"https://www.allencell.org/terms-of-use.html\")\n",
    "ds.index_on_columns([\"MitoticStateName\", \"Structure\", \"Protein\"])\n",
    "ds"
   ]
  },
  {
   "cell_type": "code",
   "execution_count": 4,
   "metadata": {},
   "outputs": [
    {
     "data": {
      "text/html": [
       "<div>\n",
       "<style scoped>\n",
       "    .dataframe tbody tr th:only-of-type {\n",
       "        vertical-align: middle;\n",
       "    }\n",
       "\n",
       "    .dataframe tbody tr th {\n",
       "        vertical-align: top;\n",
       "    }\n",
       "\n",
       "    .dataframe thead th {\n",
       "        text-align: right;\n",
       "    }\n",
       "</style>\n",
       "<table border=\"1\" class=\"dataframe\">\n",
       "  <thead>\n",
       "    <tr style=\"text-align: right;\">\n",
       "      <th></th>\n",
       "      <th>CellId</th>\n",
       "      <th>CellIndex</th>\n",
       "      <th>CellLine</th>\n",
       "      <th>ChannelNumber405</th>\n",
       "      <th>ChannelNumber638</th>\n",
       "      <th>ChannelNumberBrightfield</th>\n",
       "      <th>ChannelNumberStruct</th>\n",
       "      <th>MembraneSegmentationReadPath</th>\n",
       "      <th>NucleusSegmentationReadPath</th>\n",
       "      <th>NucMembSegmentationAlgorithm</th>\n",
       "      <th>...</th>\n",
       "      <th>SourceReadPath</th>\n",
       "      <th>Structure</th>\n",
       "      <th>StructureSegmentationReadPath</th>\n",
       "      <th>StructureSegmentationAlgorithm</th>\n",
       "      <th>StructureSegmentationAlgorithmVersion</th>\n",
       "      <th>Workflow</th>\n",
       "      <th>CompleteSegmentation</th>\n",
       "      <th>MitoticAnnotationId</th>\n",
       "      <th>MitoticStateId</th>\n",
       "      <th>MitoticStateName</th>\n",
       "    </tr>\n",
       "  </thead>\n",
       "  <tbody>\n",
       "    <tr>\n",
       "      <th>0</th>\n",
       "      <td>3</td>\n",
       "      <td>3</td>\n",
       "      <td>AICS-22</td>\n",
       "      <td>5</td>\n",
       "      <td>1</td>\n",
       "      <td>6</td>\n",
       "      <td>3</td>\n",
       "      <td>//allen/programs/allencell/data/proj0/0a/dc25b...</td>\n",
       "      <td>//allen/programs/allencell/data/proj0/53/fba6c...</td>\n",
       "      <td>Matlab nucleus/membrane segmentation</td>\n",
       "      <td>...</td>\n",
       "      <td>//allen/programs/allencell/data/proj0/30/6a23a...</td>\n",
       "      <td>Lysosome</td>\n",
       "      <td>//allen/programs/allencell/data/proj0/c4/62a0f...</td>\n",
       "      <td>Python LAMP1 structure segmentation</td>\n",
       "      <td>70</td>\n",
       "      <td>Pipeline 4.1</td>\n",
       "      <td>True</td>\n",
       "      <td>1609</td>\n",
       "      <td>2</td>\n",
       "      <td>M0</td>\n",
       "    </tr>\n",
       "    <tr>\n",
       "      <th>1</th>\n",
       "      <td>4</td>\n",
       "      <td>4</td>\n",
       "      <td>AICS-22</td>\n",
       "      <td>5</td>\n",
       "      <td>1</td>\n",
       "      <td>6</td>\n",
       "      <td>3</td>\n",
       "      <td>//allen/programs/allencell/data/proj0/0a/dc25b...</td>\n",
       "      <td>//allen/programs/allencell/data/proj0/53/fba6c...</td>\n",
       "      <td>Matlab nucleus/membrane segmentation</td>\n",
       "      <td>...</td>\n",
       "      <td>//allen/programs/allencell/data/proj0/30/6a23a...</td>\n",
       "      <td>Lysosome</td>\n",
       "      <td>//allen/programs/allencell/data/proj0/c4/62a0f...</td>\n",
       "      <td>Python LAMP1 structure segmentation</td>\n",
       "      <td>70</td>\n",
       "      <td>Pipeline 4.1</td>\n",
       "      <td>True</td>\n",
       "      <td>1610</td>\n",
       "      <td>2</td>\n",
       "      <td>M0</td>\n",
       "    </tr>\n",
       "    <tr>\n",
       "      <th>2</th>\n",
       "      <td>8</td>\n",
       "      <td>8</td>\n",
       "      <td>AICS-22</td>\n",
       "      <td>5</td>\n",
       "      <td>1</td>\n",
       "      <td>6</td>\n",
       "      <td>3</td>\n",
       "      <td>//allen/programs/allencell/data/proj0/0a/dc25b...</td>\n",
       "      <td>//allen/programs/allencell/data/proj0/53/fba6c...</td>\n",
       "      <td>Matlab nucleus/membrane segmentation</td>\n",
       "      <td>...</td>\n",
       "      <td>//allen/programs/allencell/data/proj0/30/6a23a...</td>\n",
       "      <td>Lysosome</td>\n",
       "      <td>//allen/programs/allencell/data/proj0/c4/62a0f...</td>\n",
       "      <td>Python LAMP1 structure segmentation</td>\n",
       "      <td>70</td>\n",
       "      <td>Pipeline 4.1</td>\n",
       "      <td>True</td>\n",
       "      <td>1611</td>\n",
       "      <td>2</td>\n",
       "      <td>M0</td>\n",
       "    </tr>\n",
       "    <tr>\n",
       "      <th>3</th>\n",
       "      <td>9</td>\n",
       "      <td>9</td>\n",
       "      <td>AICS-22</td>\n",
       "      <td>5</td>\n",
       "      <td>1</td>\n",
       "      <td>6</td>\n",
       "      <td>3</td>\n",
       "      <td>//allen/programs/allencell/data/proj0/0a/dc25b...</td>\n",
       "      <td>//allen/programs/allencell/data/proj0/53/fba6c...</td>\n",
       "      <td>Matlab nucleus/membrane segmentation</td>\n",
       "      <td>...</td>\n",
       "      <td>//allen/programs/allencell/data/proj0/30/6a23a...</td>\n",
       "      <td>Lysosome</td>\n",
       "      <td>//allen/programs/allencell/data/proj0/c4/62a0f...</td>\n",
       "      <td>Python LAMP1 structure segmentation</td>\n",
       "      <td>70</td>\n",
       "      <td>Pipeline 4.1</td>\n",
       "      <td>True</td>\n",
       "      <td>1612</td>\n",
       "      <td>2</td>\n",
       "      <td>M0</td>\n",
       "    </tr>\n",
       "    <tr>\n",
       "      <th>4</th>\n",
       "      <td>20</td>\n",
       "      <td>3</td>\n",
       "      <td>AICS-22</td>\n",
       "      <td>5</td>\n",
       "      <td>1</td>\n",
       "      <td>6</td>\n",
       "      <td>3</td>\n",
       "      <td>//allen/programs/allencell/data/proj0/4d/4b9e6...</td>\n",
       "      <td>//allen/programs/allencell/data/proj0/15/0c330...</td>\n",
       "      <td>Matlab nucleus/membrane segmentation</td>\n",
       "      <td>...</td>\n",
       "      <td>//allen/programs/allencell/data/proj0/04/32fe4...</td>\n",
       "      <td>Lysosome</td>\n",
       "      <td>//allen/programs/allencell/data/proj0/53/61add...</td>\n",
       "      <td>Python LAMP1 structure segmentation</td>\n",
       "      <td>70</td>\n",
       "      <td>Pipeline 4.1</td>\n",
       "      <td>True</td>\n",
       "      <td>1613</td>\n",
       "      <td>2</td>\n",
       "      <td>M0</td>\n",
       "    </tr>\n",
       "  </tbody>\n",
       "</table>\n",
       "<p>5 rows × 27 columns</p>\n",
       "</div>"
      ],
      "text/plain": [
       "   CellId  CellIndex CellLine  ChannelNumber405  ChannelNumber638  \\\n",
       "0       3          3  AICS-22                 5                 1   \n",
       "1       4          4  AICS-22                 5                 1   \n",
       "2       8          8  AICS-22                 5                 1   \n",
       "3       9          9  AICS-22                 5                 1   \n",
       "4      20          3  AICS-22                 5                 1   \n",
       "\n",
       "   ChannelNumberBrightfield  ChannelNumberStruct  \\\n",
       "0                         6                    3   \n",
       "1                         6                    3   \n",
       "2                         6                    3   \n",
       "3                         6                    3   \n",
       "4                         6                    3   \n",
       "\n",
       "                        MembraneSegmentationReadPath  \\\n",
       "0  //allen/programs/allencell/data/proj0/0a/dc25b...   \n",
       "1  //allen/programs/allencell/data/proj0/0a/dc25b...   \n",
       "2  //allen/programs/allencell/data/proj0/0a/dc25b...   \n",
       "3  //allen/programs/allencell/data/proj0/0a/dc25b...   \n",
       "4  //allen/programs/allencell/data/proj0/4d/4b9e6...   \n",
       "\n",
       "                         NucleusSegmentationReadPath  \\\n",
       "0  //allen/programs/allencell/data/proj0/53/fba6c...   \n",
       "1  //allen/programs/allencell/data/proj0/53/fba6c...   \n",
       "2  //allen/programs/allencell/data/proj0/53/fba6c...   \n",
       "3  //allen/programs/allencell/data/proj0/53/fba6c...   \n",
       "4  //allen/programs/allencell/data/proj0/15/0c330...   \n",
       "\n",
       "           NucMembSegmentationAlgorithm  ...  \\\n",
       "0  Matlab nucleus/membrane segmentation  ...   \n",
       "1  Matlab nucleus/membrane segmentation  ...   \n",
       "2  Matlab nucleus/membrane segmentation  ...   \n",
       "3  Matlab nucleus/membrane segmentation  ...   \n",
       "4  Matlab nucleus/membrane segmentation  ...   \n",
       "\n",
       "                                      SourceReadPath  Structure  \\\n",
       "0  //allen/programs/allencell/data/proj0/30/6a23a...   Lysosome   \n",
       "1  //allen/programs/allencell/data/proj0/30/6a23a...   Lysosome   \n",
       "2  //allen/programs/allencell/data/proj0/30/6a23a...   Lysosome   \n",
       "3  //allen/programs/allencell/data/proj0/30/6a23a...   Lysosome   \n",
       "4  //allen/programs/allencell/data/proj0/04/32fe4...   Lysosome   \n",
       "\n",
       "                       StructureSegmentationReadPath  \\\n",
       "0  //allen/programs/allencell/data/proj0/c4/62a0f...   \n",
       "1  //allen/programs/allencell/data/proj0/c4/62a0f...   \n",
       "2  //allen/programs/allencell/data/proj0/c4/62a0f...   \n",
       "3  //allen/programs/allencell/data/proj0/c4/62a0f...   \n",
       "4  //allen/programs/allencell/data/proj0/53/61add...   \n",
       "\n",
       "        StructureSegmentationAlgorithm  StructureSegmentationAlgorithmVersion  \\\n",
       "0  Python LAMP1 structure segmentation                                     70   \n",
       "1  Python LAMP1 structure segmentation                                     70   \n",
       "2  Python LAMP1 structure segmentation                                     70   \n",
       "3  Python LAMP1 structure segmentation                                     70   \n",
       "4  Python LAMP1 structure segmentation                                     70   \n",
       "\n",
       "       Workflow CompleteSegmentation MitoticAnnotationId MitoticStateId  \\\n",
       "0  Pipeline 4.1                 True                1609              2   \n",
       "1  Pipeline 4.1                 True                1610              2   \n",
       "2  Pipeline 4.1                 True                1611              2   \n",
       "3  Pipeline 4.1                 True                1612              2   \n",
       "4  Pipeline 4.1                 True                1613              2   \n",
       "\n",
       "  MitoticStateName  \n",
       "0               M0  \n",
       "1               M0  \n",
       "2               M0  \n",
       "3               M0  \n",
       "4               M0  \n",
       "\n",
       "[5 rows x 27 columns]"
      ]
     },
     "execution_count": 4,
     "metadata": {},
     "output_type": "execute_result"
    }
   ],
   "source": [
    "ds.data.head()"
   ]
  },
  {
   "cell_type": "code",
   "execution_count": 5,
   "metadata": {},
   "outputs": [
    {
     "name": "stderr",
     "output_type": "stream",
     "text": [
      "Validating: 100%|██████████| 27000/27000 [00:01<00:00, 21241.38it/s] \n"
     ]
    },
    {
     "data": {
      "text/plain": [
       "(local Package)\n",
       " └─MembraneSegmentationReadPath/\n",
       "   └─007a3be2287b43f2ade02e6be03164a6_379907a918894f0888844a389c8ea854\n",
       "   └─007cc4c01cf64fe688b2d680a915321d_a431c6f389d545e2876d60cac19b67ad\n",
       "   └─01025d61c678477a8167e4dfb2028194_dd45ad4fc5d141e0816f07e895199eb3\n",
       "   └─01048d1a7d6a43de82653314a3548d98_0768c7c5694442eda18e2da7511055cf\n",
       "   └─0108114d60294abf950b7dec8b439723_1be7b678699f4978b89ebe6c7534e9c2\n",
       "   └─022218e6657746e98a3f271a60d35240_49379166d7294d689313904eec1015d6\n",
       "   └─0233bc2af8ed47d5a678bfd0a1e9ef4a_e0a9057c930b4bc5b0072816ce7400c9\n",
       "   └─025b3bcf58de4c7eb5b2069cf03f579a_4f5ca5c981684602bdb1cb89eef21be2\n",
       "   └─026a579153c740a097f1adda73b17c54_667c35318ed444c8acf24b180cebca88\n",
       "   └─02a3026fda6a40cb93b1615cd069a1a5_37e3b04f5a664f618084b7c19f92249b\n",
       "   └─03457308df284e22a1efd138b19fd170_bd34124f70534c86ba08cf5441022ec1\n",
       "   └─0361df5615144d06860aeb646cd5e7b8_2adbb0a53c32419483a1807f0e0f4e04\n",
       "   └─03d5ec0a83a744a88463b268378f1bda_196d51b50e064423b4afb98897479d16\n",
       "   └─0411e5ea096d495e839f9f8c0b8a0b72_51283da63fc4408986f464079614588a\n",
       " └─NucleusSegmentationReadPath/\n",
       " └─README.md\n",
       " └─SourceReadPath/\n",
       " └─StructureSegmentationReadPath/\n",
       " └─metadata.csv\n",
       " ..."
      ]
     },
     "execution_count": 5,
     "metadata": {},
     "output_type": "execute_result"
    }
   ],
   "source": [
    "pkg = ds.distribute()\n",
    "pkg"
   ]
  },
  {
   "cell_type": "code",
   "execution_count": 6,
   "metadata": {},
   "outputs": [
    {
     "data": {
      "text/plain": [
       "{'user_meta': {'MitoticStateName': 'M0',\n",
       "  'Structure': 'Lysosome',\n",
       "  'Protein': 'LAMP-1'}}"
      ]
     },
     "execution_count": 6,
     "metadata": {},
     "output_type": "execute_result"
    }
   ],
   "source": [
    "pkg[\"MembraneSegmentationReadPath\"][\"007a3be2287b43f2ade02e6be03164a6_379907a918894f0888844a389c8ea854\"].meta"
   ]
  },
  {
   "cell_type": "code",
   "execution_count": null,
   "metadata": {},
   "outputs": [],
   "source": [
    "pkg = ds.distribute(build_location=\"/allen/aics/modeling/t4/\", push_location=\"s3://quilt-aics\", message=\"Initial upload of data\")\n",
    "pkg"
   ]
  }
 ],
 "metadata": {
  "kernelspec": {
   "display_name": "Python 3",
   "language": "python",
   "name": "python3"
  },
  "language_info": {
   "codemirror_mode": {
    "name": "ipython",
    "version": 3
   },
   "file_extension": ".py",
   "mimetype": "text/x-python",
   "name": "python",
   "nbconvert_exporter": "python",
   "pygments_lexer": "ipython3",
   "version": "3.7.3"
  }
 },
 "nbformat": 4,
 "nbformat_minor": 2
}
